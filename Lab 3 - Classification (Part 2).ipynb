{
 "cells": [
  {
   "cell_type": "markdown",
   "metadata": {},
   "source": [
    "# Lab 3: Classification (Part 2) and Model Selection"
   ]
  },
  {
   "cell_type": "markdown",
   "metadata": {},
   "source": [
    "## Name: Feifan Zhang (fzhang19)\n",
    "\n",
    "### Due September 19, 2018 11:59 PM [Next Wednesday]\n",
    "\n",
    "**Logistics and Lab Sumission**\n",
    "\n",
    "See the [course website](https://courses.engr.illinois.edu/ece398bd/logisticsvvv.html). Remember that all labs count equally, despite the labs being graded from a different number of total points)."
   ]
  },
  {
   "cell_type": "markdown",
   "metadata": {},
   "source": [
    "**What You Will Need To Know For This Lab**\n",
    "\n",
    "This lab covers a few more basic classifiers which can be used for M-ary classification:\n",
    "- Naive Bayes\n",
    "- Logistic Regression\n",
    "- Support Vector Machines\n",
    "\n",
    "as well as cross-validation, a tool for model selection and assessment.\n",
    " \n",
    "There are some problems which have short answer questions. <b>Do not write an essay -- a few (1-2) complete sentences will suffice.</b>\n",
    "\n",
    "<b>Also, be clear about your answers</b>. For example, if a question asks you \"Which classifier would you choose?\", be unequivocal about which classifier you would choose (and why); as engineers, part of your job is to make design decisions and justify them in the context of the alternatives and in the application. \n",
    "\n",
    "Remember in many applications, the end goal is not always \"run a classifier\", like in a homework problem, but is to use the output of the classifier in the context of the problem at hand (e.g. detecting spam, identifying cancer, etc.). Because of this, some of our Engineering Design-type questions are designed to get you to think about the entire design problem at a high level.\n",
    "\n",
    "\n",
    "**Warning: Do not train on your test sets. You will automatically have your score halved for a problem if you train on your test data.**"
   ]
  },
  {
   "cell_type": "markdown",
   "metadata": {},
   "source": [
    "**Preamble (don't change this)**"
   ]
  },
  {
   "cell_type": "code",
   "execution_count": 39,
   "metadata": {},
   "outputs": [
    {
     "name": "stdout",
     "output_type": "stream",
     "text": [
      "Populating the interactive namespace from numpy and matplotlib\n"
     ]
    }
   ],
   "source": [
    "%pylab inline\n",
    "import numpy as np\n",
    "from sklearn import neighbors\n",
    "from sklearn import svm\n",
    "from sklearn import model_selection\n",
    "from numpy import genfromtxt\n",
    "from sklearn.preprocessing import MinMaxScaler\n",
    "import glob"
   ]
  },
  {
   "cell_type": "markdown",
   "metadata": {},
   "source": [
    "### Problem 1: Spam Detection (90 points)\n",
    "\n",
    "In this problem, you will be constructing a crude spam detector. As you all know, when you receive an e-mail, it can be divided into one of two types: ham (useful mail, label $-1$) and spam (junk mail, label $+1$). In the [olden days](http://www.paulgraham.com/spam.html), people tried writing a bunch of rules to detect spam. However, it was quickly seen that machine learning approaches work fairly well for a little bit of work. \n",
    "\n",
    "You will be designing a spam detector by applying some of the classification techniques you learned in class to a batch of emails used to train and test [SpamAssassin](http://spamassassin.apache.org/), a leading anti-spam software package. \n",
    "\n",
    "Let the *vocabulary* of a dataset be a list of all terms occuring in a data set. So, for example, a vocabulary could be [\"cat\",\"dog\",\"chupacabra\", \"aerospace\", ...]. \n",
    "\n",
    "Our features will be based only the frequencies of terms in our vocabulary occuring in the e-mails (such an approach is called a *bag of words* approach, since we ignore the positions of the terms in the emails). The $j$-th feature is the number of times term $j$ in the vocabulary occurs in the email. If you are interested in further details on this model, you can see Chapters 6 and 13 in [Manning's Book](http://nlp.stanford.edu/IR-book/).\n",
    "\n",
    "You will use the following classifiers in this problem:\n",
    "- sklearn.naive_bayes.BernoulliNB (Naive Bayes Classifier with Bernoulli Model)\n",
    "- sklearn.naive_bayes.MultinomialNB (Naive Bayes Classifier with Multinomial Model)\n",
    "- sklearn.svm.LinearSVC (Linear Support Vector Machine)\n",
    "- sklearn.linear_model.LogisticRegression (Logistic Regression)\n",
    "- sklearn.neighbors.KNeighborsClassifier (1-Nearest Neighbor Classifier)\n",
    "\n",
    "In the context of the Bernoulli Model for Naive Bayes, scikit-learn will binarize the features by interpretting the $j$-th feature to be $1$ if the $j$-th term in the vocabulary occurs in the email and $0$ otherwise. This is a categorical Naive Bayes model, with binary features. While we did not discuss the multinomial model in class, it operates directly on the frequencies of terms in the vocabulary, and is discussed in Section 13.2 in [Manning's Book](http://nlp.stanford.edu/IR-book/) (though you do not need to read this reference). Both the Bernoulli and Multinomial models are commonly used for Naive Bayes in text classification. "
   ]
  },
  {
   "cell_type": "markdown",
   "metadata": {},
   "source": [
    "A sample Ham email is:\n",
    "\n",
    "    From nic@starflung.com  Mon Jun 24 17:06:54 2002\n",
    "    Return-Path: 7910726.0.27May2002215326@mp.opensrs.net\n",
    "    Delivery-Date: Tue May 28 02:53:28 2002\n",
    "    Received: from mp.opensrs.net (mp.opensrs.net [216.40.33.45]) by\n",
    "        dogma.slashnull.org (8.11.6/8.11.6) with ESMTP id g4S1rSe14718 for\n",
    "        <zzz@spamassassin.taint.org>; Tue, 28 May 2002 02:53:28 +0100\n",
    "    Received: (from popensrs@localhost) by mp.opensrs.net (8.9.3/8.9.3) id\n",
    "        VAA04361; Mon, 27 May 2002 21:53:26 -0400\n",
    "    Message-Id: <7910726.0.27May2002215326@mp.opensrs.net>\n",
    "    Date: Mon, 27 May 2002 21:53:26 -0500 (EST)\n",
    "    From: \"Starflung NIC\" <nic@starflung.com>\n",
    "    To: <zzz@spamassassin.taint.org>\n",
    "    Subject: Automated 30 day renewal reminder 2002-05-27\n",
    "    X-Keywords: \n",
    "\n",
    "    The following domains that are registered as belonging\n",
    "    to you are due to expire within the next 60 days. If\n",
    "    you would like to renew them, please contact\n",
    "    nic@starflung.com; otherwise they will be deactivated\n",
    "    and may be registered by another.\n",
    "\n",
    "\n",
    "    Domain Name, Expiry Date\n",
    "    nutmegclothing.com, 2002-06-26\n",
    "    \n",
    "    \n",
    "A sample Spam email is: \n",
    "\n",
    "    From jjj@mymail.dk  Fri Aug 23 11:03:31 2002\n",
    "    Return-Path: <jjj@mymail.dk>\n",
    "    Delivered-To: zzzz@localhost.example.com\n",
    "    Received: from localhost (localhost [127.0.0.1])\n",
    "        by phobos.labs.example.com (Postfix) with ESMTP id 478B54415C\n",
    "        for <zzzz@localhost>; Fri, 23 Aug 2002 06:02:57 -0400 (EDT)\n",
    "    Received: from mail.webnote.net [193.120.211.219]\n",
    "        by localhost with POP3 (fetchmail-5.9.0)\n",
    "        for zzzz@localhost (single-drop); Fri, 23 Aug 2002 11:02:57 +0100 (IST)\n",
    "    Received: from smtp.easydns.com (smtp.easydns.com [205.210.42.30])\n",
    "        by webnote.net (8.9.3/8.9.3) with ESMTP id IAA08912;\n",
    "        Fri, 23 Aug 2002 08:13:36 +0100\n",
    "    From: jjj@mymail.dk\n",
    "    Received: from mymail.dk (unknown [61.97.34.233])\n",
    "        by smtp.easydns.com (Postfix) with SMTP\n",
    "        id 7484A2F85C; Fri, 23 Aug 2002 03:13:31 -0400 (EDT)\n",
    "    Reply-To: <jjj@mymail.dk>\n",
    "    Message-ID: <008c61d64eed$6184e5d5$4bc22de3@udnugg>\n",
    "    To: bbr_hooten@yahoo.com\n",
    "    Subject: HELP WANTED.  WORK FROM HOME REPS.\n",
    "    MiME-Version: 1.0\n",
    "    Content-Type: text/plain;\n",
    "        charset=\"iso-8859-1\"\n",
    "    X-Priority: 3 (Normal)\n",
    "    X-MSMail-Priority: Normal\n",
    "    X-Mailer: Microsoft Outlook, Build 10.0.2616\n",
    "    Importance: Normal\n",
    "    Date: Fri, 23 Aug 2002 03:13:31 -0400 (EDT)\n",
    "    Content-Transfer-Encoding: 8bit\n",
    "\n",
    "    Help wanted.  We are a 14 year old fortune 500 company, that is\n",
    "    growing at a tremendous rate.  We are looking for individuals who\n",
    "    want to work from home.\n",
    "\n",
    "    This is an opportunity to make an excellent income.  No experience\n",
    "    is required.  We will train you.\n",
    "\n",
    "    So if you are looking to be employed from home with a career that has\n",
    "    vast opportunities, then go:\n",
    "\n",
    "    http://www.basetel.com/wealthnow\n",
    "\n",
    "    We are looking for energetic and self motivated people.  If that is you\n",
    "    than click on the link and fill out the form, and one of our\n",
    "    employement specialist will contact you.\n",
    "\n",
    "    To be removed from our link simple go to:\n",
    "\n",
    "    http://www.basetel.com/remove.html\n",
    "\n",
    "\n",
    "    1349lmrd5-948HyhJ3622xXiM0-290VZdq6044fFvN0-799hUsU07l50\n",
    "\n"
   ]
  },
  {
   "cell_type": "markdown",
   "metadata": {},
   "source": [
    "First, we will load the data. Our dataset has a bit over 9000 emails, with about 25% of them being spam. We will use 50% of them as a training set, 25% of them as a validation set and 25% of them as a test set. "
   ]
  },
  {
   "cell_type": "code",
   "execution_count": 40,
   "metadata": {
    "collapsed": true
   },
   "outputs": [],
   "source": [
    "# Get list of emails\n",
    "spamfiles=glob.glob('./Data/Spam/*')\n",
    "hamfiles=glob.glob('./Data/Ham/*')"
   ]
  },
  {
   "cell_type": "code",
   "execution_count": 41,
   "metadata": {
    "collapsed": true
   },
   "outputs": [],
   "source": [
    "# First, we will split the files into the training, validation and test sets.\n",
    "\n",
    "np.random.seed(seed=222017) # seed the RNG for repeatability\n",
    "\n",
    "fnames=np.asarray(spamfiles+hamfiles)\n",
    "nfiles=fnames.size\n",
    "labels=np.ones(nfiles)\n",
    "labels[len(spamfiles):]=-1\n",
    "\n",
    "# Randomly permute the files we have\n",
    "idx=np.random.permutation(nfiles)\n",
    "fnames=fnames[idx]\n",
    "labels=labels[idx]\n",
    "\n",
    "#Split the file names into which set they belong to\n",
    "tname=fnames[:int(nfiles/2)]\n",
    "trainlabels=labels[:int(nfiles/2)]\n",
    "vname=fnames[int(nfiles/2):int(nfiles*3/4)]\n",
    "vallabels=labels[int(nfiles/2):int(nfiles*3/4)]\n",
    "tename=fnames[int(3/4*nfiles):]\n",
    "testlabels=labels[int(3/4*nfiles):]"
   ]
  },
  {
   "cell_type": "code",
   "execution_count": 42,
   "metadata": {
    "collapsed": true
   },
   "outputs": [],
   "source": [
    "from sklearn.feature_extraction.text import CountVectorizer\n",
    "\n",
    "# Get our Bag of Words Features from the data\n",
    "bow = CountVectorizer(input='filename',encoding='iso-8859-1',binary=False)\n",
    "traindata=bow.fit_transform(tname)\n",
    "valdata=bow.transform(vname)\n",
    "testdata=bow.transform(tename)"
   ]
  },
  {
   "cell_type": "markdown",
   "metadata": {},
   "source": [
    "The $100$ most and least common terms in the vocabulary are:"
   ]
  },
  {
   "cell_type": "code",
   "execution_count": 43,
   "metadata": {},
   "outputs": [
    {
     "name": "stdout",
     "output_type": "stream",
     "text": [
      "100 most common terms:  slashnull,dogma,ist,thu,not,lists,cnet,mail,wed,as,html,have,click,jmason,exmh,00,are,align,freshrpms,or,mailman,date,text,mon,message,12,postfix,type,arial,users,bgcolor,ie,rpm,linux,version,22,be,taint,your,mailto,sourceforge,admin,content,20,color,table,jm,on,aug,border,127,example,face,href,this,nbsp,gif,09,subject,10,img,src,sep,it,that,0100,spamassassin,height,esmtp,is,size,xent,fork,you,tr,www,in,list,11,br,width,received,localhost,id,of,and,org,by,with,net,for,td,http,2002,font,from,3d,to,the,com \n",
      "\n",
      "100 least common terms:  g6mn17405760,e17titx,e17tvdy,e17ueb2,e17vjs8,e17vjsf,e17w5r4,e17wchv,e17wcmr,s4tkh2qxhrdntbervcuydvpgt4frugzlf3xwvohcrdtxohcfpaziiaed0ne9lw5,e17wosd,e17wosk,e17wssb,e17titf,e17wsyl,e17xbmd,e17xd4y,e17xlhj,e17yawz,s4lyze220qd,e17yozl,e17ysm1,e17ysna,e17ysox,e17ywux,e17z5re,e17z65d,e17wved,e17tfo0,e17texc,e17stjj,e17kazn,e17kb3f,e17kb3l,e17kba2,e17kcfg,e17kkxb,e17kxx7,e17kxxd,e17lk0h,e17lzkx,e17m2xi,e17mbzo,e17mpr7,e17n4br,e17n8od,e17nmuf,e17oai5,e17owlg,e17owlz,e17pfia,e17pfih,e17r7cf,e17rqza,e17rqzi,e17s52j,e17s6q9,e17sd3a,e17zimu,e17zl6i,e18bs5u,e18ec44161,e1n_n,e1pyognhf88zoewompdrqazaaaaaaaaaaaaaaaaaaaaaaaaaaaaaaaaaaaaaaaaaaaaaaaaaaaaa,s42bvq,s3zy0uqn9cxgumxzswr1e,e1s_jim_mac_gearailt,e1t,e1xwdo3b1k3wvr1u6cyugmvhm1nnyssndv2knuhw4g,s3wul4rjqofkdbzdhdtzxxnb005aaaaaa,e208716f77,e208e2940b3,e20c8406ff,s3w3ibekx4my0f8afuy,s3ulb6cl,e2178f6d01a70dfbdf9c84c4dcaf58dc,e22,e22432940aa,e224536,e226e294098,e22ab2d42c,e23,e23917,e23a916f1e,s3qjh,e240,e240merc,e241b6184464107168656739bf96c6b9,e242f2940ef,e1l_,e17k4ao,e1l1o9q,e1irt,e18gf17,e18hpmg,e18ifxm,e193416fea,e1amfeffcsliuttecieokbirfye5ds7mqt6dpbmltqjmwz5kzz5qvkvkvknb0i8hihpnwqro1z3a,e1b2916f03,e1bf816efc\n"
     ]
    }
   ],
   "source": [
    "counts=np.reshape(np.asarray(np.argsort(traindata.sum(axis=0))),-1)\n",
    "vocab=np.reshape(np.asarray(bow.get_feature_names()),-1)\n",
    "print (\"100 most common terms: \" , ','.join(str(s) for s in vocab[counts[-100:]]), \"\\n\")\n",
    "print (\"100 least common terms: \" , ','.join(str(s) for s in vocab[counts[:100]]))"
   ]
  },
  {
   "cell_type": "markdown",
   "metadata": {},
   "source": [
    "We will have our training data in `traindata` (with labels in `trainlabels`), validation data in `valdata` (with labels in `vallabels`) and test data in `testdata` (with labels in `testlabels`). The data is stored as a sparse scipy matrix (scipy.sparse.csr.csr_matrix), since we have a decent number of features (~100k), most of which are zero (~0.2% are non-zero), this allows storing the data in a few megabytes. Directly storing it as a numpy array (as we did in lab 1) would take around 8 gigabytes. Working with sparse data can make many algorithms run faster and use less storage. "
   ]
  },
  {
   "cell_type": "markdown",
   "metadata": {},
   "source": [
    "Train each of the following classifiers **( 3 Points Each )**:\n",
    "- sklearn.naive_bayes.BernoulliNB (Naive Bayes Classifier with Bernoulli Model)\n",
    "- sklearn.naive_bayes.MultinomialNB (Naive Bayes Classifier with Multinomial Model)\n",
    "- sklearn.svm.LinearSVC (Linear Support Vector Machine)\n",
    "- sklearn.linear_model.LogisticRegression (Logistic Regression)\n",
    "- sklearn.neighbors.KNeighborsClassifier (as a 1-Nearest Neighbor Classifier)\n",
    "on the training data in `traindata` with corresponding labels `trainlabels`. Use the default parameters, unless otherwise noted.\n",
    "\n",
    "For each classifier, report:\n",
    "- Time it took to fit the classifier (i.e. call the .fit method) **(1 Point Each)**\n",
    "- Training Error **( 1 Point Each)**\n",
    "\n",
    "This part of the problem has a total of **25 points**."
   ]
  },
  {
   "cell_type": "code",
   "execution_count": 44,
   "metadata": {
    "collapsed": true
   },
   "outputs": [],
   "source": [
    "from sklearn.naive_bayes import BernoulliNB \n",
    "from sklearn.naive_bayes import MultinomialNB \n",
    "from sklearn.svm import LinearSVC \n",
    "from sklearn.linear_model import LogisticRegression \n",
    "from sklearn.neighbors import KNeighborsClassifier \n",
    "from sklearn.svm import SVC"
   ]
  },
  {
   "cell_type": "code",
   "execution_count": 45,
   "metadata": {},
   "outputs": [
    {
     "name": "stdout",
     "output_type": "stream",
     "text": [
      "Time of fitting by BernoulliNB:  0.07945291201273601\n",
      "BernoulliNB Training error:  0.03359007274283269\n",
      "Time of fitting by MultinomialNB:  0.031914869944254555\n",
      "MultinomialNB Training error:  0.019255455712451863\n",
      "Time of fitting by LinearSVC:  1.0844333966573079\n",
      "LinearSVC Training error:  0.0\n",
      "Time of fitting by LogisticRegression:  1.9684220949808757\n",
      "LogisticRegression Training error:  0.0\n",
      "Time of fitting by KNeighborsClassifier:  0.018285433451334637\n",
      "KNeighborsClassifier Training error:  0.0\n"
     ]
    }
   ],
   "source": [
    "# Put your code here\n",
    "import time\n",
    "def classifierError(truelabels,estimatedlabels):\n",
    "    # Put your code here\n",
    "    index = 0\n",
    "    size = len(truelabels)\n",
    "    counter = 0\n",
    "    while index < size:\n",
    "        if truelabels[index] != estimatedlabels[index]:\n",
    "            counter += 1\n",
    "        index += 1\n",
    "    return counter / size\n",
    "\n",
    "#BernoulliNB\n",
    "Model_1 = BernoulliNB()\n",
    "start_time = time.time()\n",
    "for i in range(3):\n",
    "    Model_1.fit(traindata, trainlabels)\n",
    "duration = (time.time() - start_time) / 3\n",
    "print('Time of fitting by BernoulliNB: ', duration)\n",
    "result_1 = Model_1.predict(traindata)\n",
    "Error_1 = classifierError(trainlabels,result_1)\n",
    "print('BernoulliNB Training error: ', Error_1)\n",
    "\n",
    "#MultinomialNB\n",
    "Model_2 = MultinomialNB()\n",
    "start_time = time.time()\n",
    "for i in range(3):\n",
    "    Model_2.fit(traindata, trainlabels)\n",
    "duration = (time.time() - start_time) / 3\n",
    "print('Time of fitting by MultinomialNB: ', duration)\n",
    "result_2 = Model_2.predict(traindata)\n",
    "Error_2 = classifierError(trainlabels,result_2)\n",
    "print('MultinomialNB Training error: ', Error_2)\n",
    "\n",
    "#LinearSVC\n",
    "Model_3 = LinearSVC()\n",
    "start_time = time.time()\n",
    "for i in range(3):\n",
    "    Model_3.fit(traindata, trainlabels)\n",
    "duration = (time.time() - start_time) / 3\n",
    "print('Time of fitting by LinearSVC: ', duration)\n",
    "result_3 = Model_3.predict(traindata)\n",
    "Error_3 = classifierError(trainlabels,result_3)\n",
    "print('LinearSVC Training error: ', Error_3)\n",
    "\n",
    "#LogisticRegression\n",
    "Model_4 = LogisticRegression()\n",
    "start_time = time.time()\n",
    "for i in range(3):\n",
    "    Model_4.fit(traindata, trainlabels)\n",
    "duration = (time.time() - start_time) / 3\n",
    "print('Time of fitting by LogisticRegression: ', duration)\n",
    "result_4 = Model_4.predict(traindata)\n",
    "Error_4 = classifierError(trainlabels,result_4)\n",
    "print('LogisticRegression Training error: ', Error_4)\n",
    "\n",
    "#KNeighborsClassifier\n",
    "Model_5 = KNeighborsClassifier(n_neighbors = 1)\n",
    "start_time = time.time()\n",
    "for i in range(3):\n",
    "    Model_5.fit(traindata, trainlabels)\n",
    "duration = (time.time() - start_time) / 3\n",
    "print('Time of fitting by KNeighborsClassifier: ', duration)\n",
    "result_5 = Model_5.predict(traindata)\n",
    "Error_5 = classifierError(trainlabels,result_5)\n",
    "print('KNeighborsClassifier Training error: ', Error_5)"
   ]
  },
  {
   "cell_type": "markdown",
   "metadata": {},
   "source": [
    "Give a justification as to why the Linear SVM and Logistic regression have their particular value of training error. **(5 points)**"
   ]
  },
  {
   "cell_type": "markdown",
   "metadata": {},
   "source": [
    "If the training sample has a clear linear threshold, linear SVM and Logistic Regression would able to perfectly train their classifiers on the data. So their training data are both 0 in this case."
   ]
  },
  {
   "cell_type": "markdown",
   "metadata": {},
   "source": [
    "Run each of the classifiers on the validation data **(2 Points Each)**:\n",
    "- sklearn.naive_bayes.BernoulliNB (Naive Bayes Classifier with Bernoulli Model)\n",
    "- sklearn.naive_bayes.BernoulliNB (Naive Bayes Classifier with Multiomial Model)\n",
    "- sklearn.svm.LinearSVC (Linear Support Vector Machine)\n",
    "- sklearn.linear_model.LogisticRegression (Logistic Regression)\n",
    "- sklearn.neighbors.KNeighborsClassifier (as a 1-Nearest Neighbor Classifier)\n",
    "on the training data in `traindata` with corresponding labels `trainlabels`. Use the default parameters, unless otherwise noted.\n",
    "\n",
    "For each classifier:\n",
    "- Store the labels it predicted as \\_\\_vallabels, where \\_\\_ is NB,MB,SVM,LR,NN respectively. **( 1 Point Each)**\n",
    "- Time it took to run the classifier on the data **(1 Point Each)**\n",
    "- Validation Error **(1 Point Each)**\n",
    "\n",
    "This part of the problem has a total of **25 points**."
   ]
  },
  {
   "cell_type": "code",
   "execution_count": 46,
   "metadata": {},
   "outputs": [
    {
     "name": "stdout",
     "output_type": "stream",
     "text": [
      "Time of fitting by BernoulliNB:  0.04454644521077474\n",
      "BernoulliNB Validation error:  0.05477107402652974\n",
      "Time of fitting by MultinomialNB:  0.023272275924682617\n",
      "MultinomialNB Validation error:  0.026957637997432605\n",
      "Time of fitting by LinearSVC:  0.00864251454671224\n",
      "LinearSVC Validation error:  0.01069747539580659\n",
      "Time of fitting by LogisticRegression:  0.007978518803914389\n",
      "LogisticRegression Validation error:  0.008130081300813009\n",
      "Time of fitting by KNeighborsClassifier:  3.7114073435465493\n",
      "KNeighborsClassifier Validation error:  0.016260162601626018\n"
     ]
    }
   ],
   "source": [
    "# Put your code here\n",
    "#BernoulliNB\n",
    "start_time = time.time()\n",
    "for i in range(3):\n",
    "    NBvallabels = Model_1.predict(valdata)\n",
    "duration = (time.time() - start_time) / 3\n",
    "print('Time of fitting by BernoulliNB: ', duration)\n",
    "Error_1 = classifierError(vallabels,NBvallabels)\n",
    "print('BernoulliNB Validation error: ', Error_1)\n",
    "\n",
    "#MultinomialNB\n",
    "start_time = time.time()\n",
    "for i in range(3):\n",
    "    MBvallabels = Model_2.predict(valdata)\n",
    "duration = (time.time() - start_time) / 3\n",
    "print('Time of fitting by MultinomialNB: ', duration)\n",
    "Error_2 = classifierError(vallabels,MBvallabels)\n",
    "print('MultinomialNB Validation error: ', Error_2)\n",
    "\n",
    "#LinearSVC\n",
    "start_time = time.time()\n",
    "for i in range(3):\n",
    "    SVMvallabels = Model_3.predict(valdata)\n",
    "duration = (time.time() - start_time) / 3\n",
    "print('Time of fitting by LinearSVC: ', duration)\n",
    "Error_3 = classifierError(vallabels,SVMvallabels)\n",
    "print('LinearSVC Validation error: ', Error_3)\n",
    "\n",
    "#LogisticRegression\n",
    "start_time = time.time()\n",
    "for i in range(3):\n",
    "    LRvallabels = Model_4.predict(valdata)\n",
    "duration = (time.time() - start_time) / 3\n",
    "print('Time of fitting by LogisticRegression: ', duration)\n",
    "Error_4 = classifierError(vallabels,LRvallabels)\n",
    "print('LogisticRegression Validation error: ', Error_4)\n",
    "\n",
    "#KNeighborsClassifier\n",
    "start_time = time.time()\n",
    "for i in range(3):\n",
    "    NNvallabels = Model_5.predict(valdata)\n",
    "duration = (time.time() - start_time) / 3\n",
    "print('Time of fitting by KNeighborsClassifier: ', duration)\n",
    "Error_5 = classifierError(vallabels,NNvallabels)\n",
    "print('KNeighborsClassifier Validation error: ', Error_5)"
   ]
  },
  {
   "cell_type": "markdown",
   "metadata": {},
   "source": [
    "Let us take a more nuanced look at the type of errors made on a data set. The following function calculates a confusion matrix (Fig. 2.1 in the notes) and some statistics. You may wish to read Section 2.1.1 in the notes -- it may be helpful, but is not necessary to complete this problem."
   ]
  },
  {
   "cell_type": "code",
   "execution_count": 47,
   "metadata": {
    "collapsed": true
   },
   "outputs": [],
   "source": [
    "def ConfMatr(truelabels,estimatedlabels,classifiername):\n",
    "    # classifiername is a string, such as 'Naive Bayes (Bernoulli)'\n",
    "    cm=np.zeros((2,2))\n",
    "    cm[0,0]=np.sum(np.logical_and(truelabels==1,estimatedlabels==1)) # True Positives\n",
    "    cm[0,1]=np.sum(np.logical_and(truelabels==-1,estimatedlabels==1)) # False Positive\n",
    "    cm[1,0]=np.sum(np.logical_and(truelabels==1,estimatedlabels==-1)) # False Negative\n",
    "    cm[1,1]=np.sum(np.logical_and(truelabels==-1,estimatedlabels==-1)) # True Negatives\n",
    "    print (\"Classifier Name: %s\"% classifiername )\n",
    "    print (\"True Positives:\", cm[0,0], \"False Positive:\", cm[0,1])\n",
    "    print (\"False Negative:\", cm[1,0], \"True Negatives:\", cm[1,1])\n",
    "    print (\"True Positive Rate : \", cm[0,0]/np.sum(truelabels==1))\n",
    "    print (\"False Positive Rate: \", cm[0,1]/np.sum(truelabels==-1))\n",
    "    print (\"---\")"
   ]
  },
  {
   "cell_type": "markdown",
   "metadata": {},
   "source": [
    "Run ConfMatr using the validation labels and their estimates for all the classifiers we've used in this problem. **(5 points)**"
   ]
  },
  {
   "cell_type": "code",
   "execution_count": 48,
   "metadata": {},
   "outputs": [
    {
     "name": "stdout",
     "output_type": "stream",
     "text": [
      "Classifier Name: <class 'sklearn.naive_bayes.BernoulliNB'>\n",
      "True Positives: 490.0 False Positive: 16.0\n",
      "False Negative: 112.0 True Negatives: 1719.0\n",
      "True Positive Rate :  0.813953488372\n",
      "False Positive Rate:  0.00922190201729\n",
      "---\n",
      "Classifier Name: <class 'sklearn.naive_bayes.MultinomialNB'>\n",
      "True Positives: 549.0 False Positive: 10.0\n",
      "False Negative: 53.0 True Negatives: 1725.0\n",
      "True Positive Rate :  0.91196013289\n",
      "False Positive Rate:  0.00576368876081\n",
      "---\n",
      "Classifier Name: <class 'sklearn.svm.classes.LinearSVC'>\n",
      "True Positives: 594.0 False Positive: 17.0\n",
      "False Negative: 8.0 True Negatives: 1718.0\n",
      "True Positive Rate :  0.986710963455\n",
      "False Positive Rate:  0.00979827089337\n",
      "---\n",
      "Classifier Name: <class 'sklearn.linear_model.logistic.LogisticRegression'>\n",
      "True Positives: 598.0 False Positive: 15.0\n",
      "False Negative: 4.0 True Negatives: 1720.0\n",
      "True Positive Rate :  0.993355481728\n",
      "False Positive Rate:  0.00864553314121\n",
      "---\n",
      "Classifier Name: <class 'sklearn.neighbors.classification.KNeighborsClassifier'>\n",
      "True Positives: 578.0 False Positive: 14.0\n",
      "False Negative: 24.0 True Negatives: 1721.0\n",
      "True Positive Rate :  0.960132890365\n",
      "False Positive Rate:  0.00806916426513\n",
      "---\n"
     ]
    }
   ],
   "source": [
    "# Put your code here\n",
    "ConfMatr(vallabels,NBvallabels,BernoulliNB)\n",
    "ConfMatr(vallabels,MBvallabels,MultinomialNB)\n",
    "ConfMatr(vallabels,SVMvallabels,LinearSVC)\n",
    "ConfMatr(vallabels,LRvallabels,LogisticRegression)\n",
    "ConfMatr(vallabels,NNvallabels,KNeighborsClassifier)"
   ]
  },
  {
   "cell_type": "markdown",
   "metadata": {},
   "source": [
    "What does the True Positive Rate mean for this problem? What does the False Positive Rate mean for this problem? Do we want these quantites to be high, low or don't care? Explain using words (no equations!). **(10 point)**"
   ]
  },
  {
   "cell_type": "markdown",
   "metadata": {},
   "source": [
    "True Positive Rate is the rate that the classifier correctly classified input data. The higher the rate is, the more precise the classifier is. In this case, it is the rate that a Ham email is corrected classified as Ham. And False Positive Rate in this case is the rate that Spam emails are incorrectly classified. We always want TPR to be high while NPR to be low."
   ]
  },
  {
   "cell_type": "markdown",
   "metadata": {},
   "source": [
    "Based on the results of this problem and knowledge of the application at hand (spam filtering), pick one of the classifiers in this problem and describe how you would use it as part of a spam filter for the University of Illinois email system. \n",
    "\n",
    "Be sure to justify your choice. **(10 points)**\n",
    "\n",
    "For this problem, just sketch out a system design at a very high level -- how you would train the spam filter to deal with new threats, would you filter everyone's email jointly, etc. We're just looking for around a paragraph on how you would come up with a (very rough) engineering design using the results of this problem. You may get some inspiration from the [girls and boys](https://gmail.googleblog.com/2007/10/how-our-spam-filter-works.html) at [Gmail](https://gmail.googleblog.com/2015/07/the-mail-you-want-not-spam-you-dont.html), the [chimps at MailChimp](http://kb.mailchimp.com/delivery/spam-filters/about-spam-filters) or other places. Your answer should also include techniques you could use to improve the performance of the classifier over the baseline provided in this problem (e.g. new features, or whatever)."
   ]
  },
  {
   "cell_type": "markdown",
   "metadata": {},
   "source": [
    "Naive Bayes Classifier with Multinomial Model.\n",
    "\n",
    "First the speed of MNB is not very fast but still acceptable. Considered its low false positive rate, it has low possibility to filter some important emails. Its true positive rate 0.91 is not very high but still acceptable. It is more important to catch all valuable emails so the false positive rate high the priority in my comparation.\n",
    "\n",
    "Some new features could be added to the current MNB. For example, we could collect the most frequent word in senders' addresses of spam and ham emails and do the same training on it as we did before. More features would make it more precise."
   ]
  },
  {
   "cell_type": "markdown",
   "metadata": {},
   "source": [
    "Run the classifier you selected in the previous part of the problem on the test data, and display test error and output of ConfMatr. Comment on the true/false positive rate and error as compared to that on the validation set. **(10 points)**"
   ]
  },
  {
   "cell_type": "code",
   "execution_count": 49,
   "metadata": {},
   "outputs": [
    {
     "name": "stdout",
     "output_type": "stream",
     "text": [
      "MultinomialNB Test error:  0.02480752780153978\n",
      "Classifier Name: <class 'sklearn.naive_bayes.MultinomialNB'>\n",
      "True Positives: 573.0 False Positive: 11.0\n",
      "False Negative: 47.0 True Negatives: 1707.0\n",
      "True Positive Rate :  0.924193548387\n",
      "False Positive Rate:  0.00640279394645\n",
      "---\n"
     ]
    }
   ],
   "source": [
    "# Put your code here\n",
    "MBvallabels_test = Model_2.predict(testdata)\n",
    "Error_test = classifierError(testlabels,MBvallabels_test)\n",
    "print('MultinomialNB Test error: ', Error_test)\n",
    "ConfMatr(testlabels,MBvallabels_test,MultinomialNB)"
   ]
  },
  {
   "cell_type": "markdown",
   "metadata": {},
   "source": [
    "True Positive Rate: 0.924193548387\n",
    "False Positive Rate: 0.00640279394645\n",
    "Test Error: 0.02480752780153978\n",
    "These values are almost the same as those on the validation set. FPR and errors are a little bit worse but TPR is better here. Overall, they change in an acceptable range."
   ]
  },
  {
   "cell_type": "markdown",
   "metadata": {
    "collapsed": true
   },
   "source": [
    "### Problem 2: Cross-Validation (50 Points)"
   ]
  },
  {
   "cell_type": "markdown",
   "metadata": {},
   "source": [
    "Write a function which implements $5$-fold cross-validation to estimate the error of a classifier with cross-validation with the 0,1-loss for k-Nearest Neighbors (kNN). \n",
    "\n",
    "You will be given as input:\n",
    "* A (N,d) numpy.ndarray of training data, trainData (with N divisible by 5)\n",
    "* A length $N$ numpy.ndarray of training labels, trainLabels\n",
    "* A number $k$, for which cross-validated error estimates will be outputted for $1,\\ldots,k$\n",
    "\n",
    "Your output will be a vector (represented as a numpy.ndarray) err, such that err[i] is the cross-validated estimate of using i neighbors (err will be of length $k+1$; the zero-th component of the vector will be meaningless). \n",
    "\n",
    "So that this problem is easier to grade, take your folds to be 0:N/5, N/5:2N/5, ..., 4N/5:N for cross-validation (In general, the folds should be randomly divided).\n",
    "\n",
    "Use scikit-learn's sklearn.neighbors.KNeighborsClassifier to perform the training and classification for the kNN models involved. Do not use any other features of scikit-learn, such as things from sklearn.model_selection. <b>(20 points)</b>"
   ]
  },
  {
   "cell_type": "code",
   "execution_count": 50,
   "metadata": {
    "collapsed": true
   },
   "outputs": [],
   "source": [
    "def crossValidationkNN(trainData,trainLabels,k):\n",
    "    #Put your code here\n",
    "    retval = [0] * (k + 1)\n",
    "    index = 1\n",
    "    length = len(trainLabels)\n",
    "    seg = length / 5\n",
    "    while index <= k:\n",
    "        i = 0\n",
    "        Sum = 0\n",
    "        while i < 5:\n",
    "            curr = trainData[int(length / 5 * i):int(length / 5 * (i + 1)), :]\n",
    "            train_t = trainData[0:int(length / 5 * i), :]\n",
    "            train_tt = trainData[int(length / 5 * (i + 1)): , :]\n",
    "            train_f = np.concatenate((train_t, train_tt), axis=0)\n",
    "            lab_t = trainLabels[0:int(length / 5 * i)]\n",
    "            lab_tt = trainLabels[int(length / 5 * (i + 1)):]\n",
    "            lab_f = np.concatenate((lab_t, lab_tt), axis=0)\n",
    "            lab = trainLabels[int(length / 5 * i):int(length / 5 * (i + 1))]\n",
    "            Model = KNeighborsClassifier(n_neighbors = index)\n",
    "            Model.fit(train_f, lab_f)\n",
    "            result = Model.predict(curr)\n",
    "            error = classifierError(lab,result)\n",
    "            Sum += error\n",
    "            i += 1\n",
    "        retval[index] = Sum / 5\n",
    "        index += 1\n",
    "    return retval"
   ]
  },
  {
   "cell_type": "markdown",
   "metadata": {},
   "source": [
    "Now, we will load some data (acquired from <a href=\"http://www.cs.ubc.ca/~murphyk/\">K.P. Murphy</a>'s <a href=\"https://github.com/probml/pmtk3\"> PMTK tookit</a>)."
   ]
  },
  {
   "cell_type": "code",
   "execution_count": 51,
   "metadata": {
    "collapsed": true
   },
   "outputs": [],
   "source": [
    "problem2_tmp= genfromtxt('Data/p2.csv', delimiter=',')\n",
    "\n",
    "# Randomly reorder the data\n",
    "np.random.seed(seed=2217) # seed the RNG for repeatability\n",
    "idx=np.random.permutation(problem2_tmp.shape[0])\n",
    "problem2_tmp=problem2_tmp[idx]\n",
    "\n",
    "#The training data which you will use is called \"traindata\"\n",
    "traindata=problem2_tmp[:200,:2]\n",
    "#The training labels are in \"labels\"\n",
    "trainlabels=problem2_tmp[:200,2]\n",
    "\n",
    "#The test data which you will use is called \"testdata\" with labels \"testlabels\"\n",
    "testdata=problem2_tmp[200:,:2]\n",
    "testlabels=problem2_tmp[200:,2]"
   ]
  },
  {
   "cell_type": "markdown",
   "metadata": {},
   "source": [
    "Plot the cross-validation error versus number of neighbors for $1,\\ldots,30$ neighbors. <b>(10 points)</b>"
   ]
  },
  {
   "cell_type": "code",
   "execution_count": 52,
   "metadata": {},
   "outputs": [
    {
     "data": {
      "text/plain": [
       "[<matplotlib.lines.Line2D at 0x2bffd5e7a20>]"
      ]
     },
     "execution_count": 52,
     "metadata": {},
     "output_type": "execute_result"
    },
    {
     "data": {
      "image/png": "[encoded data removed]",
      "text/plain": [
       "<matplotlib.figure.Figure at 0x2bffd619cf8>"
      ]
     },
     "metadata": {},
     "output_type": "display_data"
    }
   ],
   "source": [
    "# Put your code here\n",
    "import matplotlib.pyplot as py\n",
    "retval = crossValidationkNN(traindata,trainlabels,30)\n",
    "#print(retval)\n",
    "x = [(i + 1) for i in range(30)]\n",
    "py.plot(x, retval[1:])"
   ]
  },
  {
   "cell_type": "markdown",
   "metadata": {},
   "source": [
    "Select the number of neighbors which minimizes the cross-validation error. What is the cross-validation error for this number of neighbors? <b>(10 points)</b>"
   ]
  },
  {
   "cell_type": "code",
   "execution_count": 53,
   "metadata": {},
   "outputs": [
    {
     "name": "stdout",
     "output_type": "stream",
     "text": [
      "the number of neghbors which minimizes the cross-validation error is:  14\n",
      "the cross-validation error for this number of neighbors is:  0.175\n"
     ]
    }
   ],
   "source": [
    "# Put your code here\n",
    "#print(retval[1:])\n",
    "Min = min(retval[1:])\n",
    "#print(Min)\n",
    "index = retval.index(Min)\n",
    "print('the number of neghbors which minimizes the cross-validation error is: ', index)\n",
    "print('the cross-validation error for this number of neighbors is: ', retval[index])"
   ]
  },
  {
   "cell_type": "markdown",
   "metadata": {},
   "source": [
    "the number of neghbors which minimizes the cross-validation error is:  14\n",
    "the cross-validation error for this number of neighbors is:  0.021875"
   ]
  },
  {
   "cell_type": "markdown",
   "metadata": {},
   "source": [
    "Train a kNN model on the whole training data using the number of neighbors you found in the previous part of the question, and apply it to the test data. Is it higher or lower than the cross-validation error you found in the last part of the problem? **(10 points)**"
   ]
  },
  {
   "cell_type": "code",
   "execution_count": 54,
   "metadata": {},
   "outputs": [
    {
     "name": "stdout",
     "output_type": "stream",
     "text": [
      "0.214\n"
     ]
    }
   ],
   "source": [
    "# Put your code here\n",
    "Model = KNeighborsClassifier(n_neighbors = 14)\n",
    "Model.fit(traindata, trainlabels)\n",
    "result = Model.predict(testdata)\n",
    "Error = classifierError(testlabels,result)\n",
    "print(Error)"
   ]
  },
  {
   "cell_type": "markdown",
   "metadata": {},
   "source": [
    "The error is 0.214 and it is higher than the cross-validation error I found in the last part of the problem. Model judged by Cross-validation is a little overfit for the specific data, so when new test data is applied the error becomes larger."
   ]
  },
  {
   "cell_type": "markdown",
   "metadata": {},
   "source": [
    "### Problem 3: Detecting Cancer with SVMs and Logistic Regression (45 points)"
   ]
  },
  {
   "cell_type": "markdown",
   "metadata": {},
   "source": [
    "We consider the [Breast Cancer Wisconsin Data Set](https://archive.ics.uci.edu/ml/datasets/Breast+Cancer+Wisconsin+%28Diagnostic%29) from \n",
    "W.N. Street, W.H. Wolberg and O.L. Mangasarian. Nuclear feature extraction for breast tumor diagnosis. IS&T/SPIE 1993 International Symposium on Electronic Imaging: Science and Technology, volume 1905, pages 861-870, San Jose, CA, 1993. \n",
    "\n",
    "The authors diagnosed people by characterizing 3 cell nuclei per person extracted from the breast (pictures [here](http://web.archive.org/web/19970225174429/http://www.cs.wisc.edu/~street/images/)), each with 10 features (for a 30-dimensional feature space):\n",
    "\n",
    "1. radius (mean of distances from center to points on the perimeter) \n",
    "\n",
    "2. texture (standard deviation of gray-scale values) \n",
    "\n",
    "3. perimeter \n",
    "\n",
    "4. area \n",
    "\n",
    "5. smoothness (local variation in radius lengths) \n",
    "\n",
    "6. compactness (perimeter^2 / area - 1.0) \n",
    "\n",
    "7. concavity (severity of concave portions of the contour) \n",
    "\n",
    "8. concave points (number of concave portions of the contour) \n",
    "\n",
    "9. symmetry \n",
    "\n",
    "10. fractal dimension (\"coastline approximation\" - 1)\n",
    "\n",
    "and classified the sample into one of two classes: Malignant ($+1$) or Benign ($-1$). You can read the original paper for more on what these features mean.\n",
    "\n",
    "You will be attempting to classify if a sample is Malignant or Benign using Support Vector Machines, as well as Logistic Regression. Since we don't have all that much data, we will use 10-fold cross-validation to tune our parameters for our SVMs and Logistic Regression. We use 90% of the data for training, and 10% for testing.\n",
    "\n",
    "You will be experimenting with SVMs using Gaussian RBF kernels through sklearn.svm.SVC, linear SVMs through sklearn.svm.LinearSVC, and sklearn.linear_model.LogisticRegression for Logistic Regression. \n",
    "\n",
    "Your model selection will be done with cross-validation via sklearn.model_selection's cross_val_score. This returns the accuracy for each fold, i.e. the fraction of samples classified correctly. Thus, the cross-validation error is simply 1-mean(cross_val_score)."
   ]
  },
  {
   "cell_type": "markdown",
   "metadata": {},
   "source": [
    "First, we load the data. We will use scikit-learn's train test split function to split the data. The data is scaled for reasons outlined <a href=\"http://www.csie.ntu.edu.tw/~cjlin/papers/guide/guide.pdf\">here</a>. In short, it helps avoid some numerical issues and avoids some problems with certain features which are typically large affecting the SVM optimization problem unfairly compared to features which are typically small. "
   ]
  },
  {
   "cell_type": "code",
   "execution_count": 55,
   "metadata": {
    "collapsed": true
   },
   "outputs": [],
   "source": [
    "from sklearn.model_selection import train_test_split\n",
    "\n",
    "cancer = genfromtxt('Data/wdbc.csv', delimiter=',')\n",
    "\n",
    "np.random.seed(seed=282017) # seed the RNG for repeatability\n",
    "idx=np.random.permutation(cancer.shape[0])\n",
    "cancer=cancer[idx]\n",
    "\n",
    "cancer_features=cancer[:,1:]\n",
    "cancer_labels=cancer[:,0]\n",
    "\n",
    "#The training data is in data_train with labels label_train. \n",
    "# The test data is in data_test with labels label_test.\n",
    "data_train, data_test, label_train, label_test = train_test_split(cancer_features,cancer_labels,test_size=0.1,random_state=292017)\n",
    "\n",
    "# Rescale the training data and scale the test data correspondingly\n",
    "scaler=MinMaxScaler(feature_range=(-1,1))\n",
    "data_train=scaler.fit_transform(data_train) #Note that the scaling is determined solely via the training data!\n",
    "data_test=scaler.transform(data_test)"
   ]
  },
  {
   "cell_type": "markdown",
   "metadata": {},
   "source": [
    "The soft margin linear SVM is tuned based on a parameter $C$, which controls how much points can be violating the margin (this isn't the same $C$ as in the notes, though it serves the same function; see the [scikit-learn documentation](http://scikit-learn.org/stable/modules/svm.html#svc) for details). \n",
    "\n",
    "Use cross-validation to select a value of $C$ for a linear SVM (sklearn.svm.LinearSVC) by varying $C$ from $2^{-5},2^{-4},\\ldots,2^{15}$. \n",
    "\n",
    "Which value of $C$ would you choose, and why? What is the corresponding cross-validation error? <b>(10 points)</b>"
   ]
  },
  {
   "cell_type": "code",
   "execution_count": 56,
   "metadata": {},
   "outputs": [
    {
     "name": "stdout",
     "output_type": "stream",
     "text": [
      "2 0.027149321267\n"
     ]
    }
   ],
   "source": [
    "#Put your code here\n",
    "C_val = 2 ** (-5)\n",
    "store = []\n",
    "for i in range(21):\n",
    "    #print(C_val)\n",
    "    Model = LinearSVC(C = C_val)\n",
    "    error = 1 - mean(model_selection.cross_val_score(estimator = Model, X = data_train, y = label_train, cv = 10))\n",
    "    store.append(error)\n",
    "    C_val *= 2\n",
    "Min = min(store)\n",
    "Index = store.index(Min)\n",
    "print(Index, Min)"
   ]
  },
  {
   "cell_type": "markdown",
   "metadata": {},
   "source": [
    "C = 2^(-3) Since its error is the minimum among all error values.\n",
    "Error = 0.027149321267"
   ]
  },
  {
   "cell_type": "markdown",
   "metadata": {},
   "source": [
    "You will now experiment with using kernels in an SVM, particularly the Gaussian RBF kernel (in sklearn.svm.SVC). The SVM has two parameters to tune in this case: $C$ (as before), and $\\gamma$, which is a parameter in the RBF. \n",
    "\n",
    "Use cross-validation to select parameters $(C,\\gamma)$ by searching varying $(C,\\gamma)$ over $C=2^{-5},2^{-4},\\ldots,2^{15}$ and $\\gamma=2^{-15},\\ldots,2^{3}$ [So, you will try about 400 parameter choices]. Out of these, which $(C,\\gamma)$ parameters would you choose? What is the corresponding cross-validation error? \n",
    "\n",
    "This procedure is known as a *grid search*.We are using a fairly coarse grid for this problem, but one could use a finer grid once the rough range of good parameters is known (rather than starting with a fine grid, which would waste a lot of time). <b>(10 points)</b>"
   ]
  },
  {
   "cell_type": "code",
   "execution_count": 57,
   "metadata": {
    "collapsed": true
   },
   "outputs": [],
   "source": [
    "# Put your code here\n",
    "C_val = 2 ** (-5)\n",
    "Gamma_val = 2 ** (-15)\n",
    "i = 0\n",
    "j = 0\n",
    "retval = [[0 for m in range(19)] for n in range(21)]\n",
    "while i < 21:\n",
    "    Gamma_val = 2 ** (-15)\n",
    "    j = 0\n",
    "    while j < 19:\n",
    "        Model = SVC(C = C_val, gamma = Gamma_val)\n",
    "        error = 1 - mean(model_selection.cross_val_score(estimator = Model, X = data_train, y = label_train, cv = 10))\n",
    "        retval[i][j] = error\n",
    "        j += 1\n",
    "        Gamma_val *= 2\n",
    "    C_val *= 2\n",
    "    i += 1\n",
    "#print(retval)"
   ]
  },
  {
   "cell_type": "markdown",
   "metadata": {},
   "source": [
    "C = 2e3\n",
    "gamma = 2e(-3)\n",
    "error = 0.019457013574660564"
   ]
  },
  {
   "cell_type": "markdown",
   "metadata": {},
   "source": [
    "As stated in a footnote in the notes, Logistic Regression normally has a regularizer parameter to promote stability. Scikit-learn calls this parameter $C$ (which is like $\\lambda^{-1}$ in the notes); see the [LibLinear](http://www.csie.ntu.edu.tw/~cjlin/papers/liblinear.pdf) documentation for the exact meaning of $C$. \n",
    "\n",
    "Use cross-validation to select a value of $C$ for logistic regression (sklearn.linear_model.LogisticRegression) by varying $C$ from $2^{-14},2^{-4},\\ldots,2^{14}$. You may optionally make use of sklearn.model_selection.GridSearchCV, or write the search by hand (as before). \n",
    "\n",
    "Which value of $C$ would you choose? What is the corresponding cross-validation error? **(5 points)**"
   ]
  },
  {
   "cell_type": "code",
   "execution_count": 58,
   "metadata": {},
   "outputs": [
    {
     "name": "stdout",
     "output_type": "stream",
     "text": [
      "15 0.027149321267\n"
     ]
    }
   ],
   "source": [
    "#Put your code here\n",
    "#C_val = 2 **(-14)\n",
    "#store = {}\n",
    "#store['C'] = [C_val]\n",
    "#for i in range(28):\n",
    "#    C_val *= 2\n",
    "#    store['C'].append(C_val)\n",
    "#Model = LogisticRegression()\n",
    "#retval = model_selection.GridSearchCV(Model, store)\n",
    "##print(retval)\n",
    "#Model = LogisticRegression(C = 1)\n",
    "#error = 1 - mean(model_selection.cross_val_score(estimator = Model, X = data_train, y = label_train, cv = 10))\n",
    "#print(error)\n",
    "C_val = 2 ** (-14)\n",
    "store = []\n",
    "for i in range(29):\n",
    "    #print(C_val)\n",
    "    Model = LogisticRegression(C = C_val)\n",
    "    error = 1 - mean(model_selection.cross_val_score(estimator = Model, X = data_train, y = label_train, cv = 10))\n",
    "    store.append(error)\n",
    "    C_val *= 2\n",
    "Min = min(store)\n",
    "Index = store.index(Min)\n",
    "print(Index, Min)\n",
    "#print(store)"
   ]
  },
  {
   "cell_type": "markdown",
   "metadata": {},
   "source": [
    "C = 2e(1)\n",
    "Error = 0.027149321267"
   ]
  },
  {
   "cell_type": "markdown",
   "metadata": {},
   "source": [
    "Based on the classifiers you selected thusfar for Linear SVM, SVM + Gaussian RBF and Logistic Regression, which classifier would you pick? Make sure to take into account error, the application and computational considerations. **(5 points)**"
   ]
  },
  {
   "cell_type": "markdown",
   "metadata": {},
   "source": [
    "SVM + Gaussian RBF.\n",
    "\n",
    "Though it has a much slower speed compared to the other two algorithms, it has the highest accuracy. Since these algorithms are applied on cancer diagnosis, the accuracy is the most important thing to considered. Patient are willing to wait for more time to get the correct diagnosis. So I would pick SVM + Gaussian RBF in this case."
   ]
  },
  {
   "cell_type": "markdown",
   "metadata": {},
   "source": [
    "Train the classifier selected above on the whole training set. Then, estimate the prediction error using the test set. What is your estimate of the prediction error? How does it compare to the cross-validation error?  <b>(10 points)</b>"
   ]
  },
  {
   "cell_type": "code",
   "execution_count": 59,
   "metadata": {},
   "outputs": [
    {
     "name": "stdout",
     "output_type": "stream",
     "text": [
      "Test error is:  0.017543859649122806\n"
     ]
    }
   ],
   "source": [
    "#Put your code here\n",
    "C = 2 ** 3\n",
    "Gamma = 2 ** (-3)\n",
    "Model = SVC(C = C, gamma = Gamma)\n",
    "Model.fit(data_train, label_train)\n",
    "result = Model.predict(data_test)\n",
    "Error = classifierError(label_test, result)\n",
    "#Error = 1 - Model.score(data_test, label_test)\n",
    "print('Test error is: ', Error)"
   ]
  },
  {
   "cell_type": "markdown",
   "metadata": {},
   "source": [
    "Error is 0.017543859649122806. This error is smaller than the previous cross-validation error since test data are only 10% of the overall data."
   ]
  },
  {
   "cell_type": "markdown",
   "metadata": {},
   "source": [
    "Do you think the 0,1-loss is appropriate performance measure to report, in this case? If so, why? If not, how would you measure performance? **(5 points)**"
   ]
  },
  {
   "cell_type": "markdown",
   "metadata": {},
   "source": [
    "I think 0, 1-loss is appropiate measure to report. Since diagnosis cancers is something that no errors are allowed. Each diagnosis would determine one patient's life. So 0, 1-loss could maximize the accuracy of the diagnosis which would definitely benifits patients."
   ]
  },
  {
   "cell_type": "markdown",
   "metadata": {
    "collapsed": true
   },
   "source": [
    "## And this concludes Lab 3! "
   ]
  }
 ],
 "metadata": {
  "anaconda-cloud": {},
  "kernelspec": {
   "display_name": "Python 3",
   "language": "python",
   "name": "python3"
  },
  "language_info": {
   "codemirror_mode": {
    "name": "ipython",
    "version": 3
   },
   "file_extension": ".py",
   "mimetype": "text/x-python",
   "name": "python",
   "nbconvert_exporter": "python",
   "pygments_lexer": "ipython3",
   "version": "3.6.1"
  }
 },
 "nbformat": 4,
 "nbformat_minor": 1
}
